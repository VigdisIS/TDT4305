{
 "cells": [
  {
   "cell_type": "code",
   "execution_count": 113,
   "id": "afe94871",
   "metadata": {},
   "outputs": [],
   "source": [
    "import numpy as np\n",
    "import hashlib"
   ]
  },
  {
   "cell_type": "markdown",
   "id": "6e4f5bf9",
   "metadata": {},
   "source": [
    "Name A: Vigdis-Irene Steinsund\n",
    "\n",
    "Name B:  Thomas Hasvold Adam"
   ]
  },
  {
   "cell_type": "code",
   "execution_count": 114,
   "id": "42d4a72d",
   "metadata": {},
   "outputs": [],
   "source": [
    "#Four (4) 'relevant' TDT4305 sentences\n",
    "\n",
    "Sentence_1 = \"The Big Data platform for students is Blackboard\"\n",
    "Sentence_2 = \"Questions on MinHash project by NTNU students is on Piazza\"\n",
    "Sentence_3 = \"NTNU Big Data platform are Blackboard and Piazza\"\n",
    "Sentence_4 = \"The project data for students are on Blackboard not Piazza\""
   ]
  },
  {
   "cell_type": "code",
   "execution_count": 115,
   "id": "f619be36",
   "metadata": {},
   "outputs": [],
   "source": [
    "unique_words =  ['big', 'blackboard', 'data', 'minhash', 'ntnu', 'piazza', 'platform', 'project', 'questions', 'students']# Enter the unique words list here"
   ]
  },
  {
   "cell_type": "code",
   "execution_count": 116,
   "id": "e633fa9c",
   "metadata": {},
   "outputs": [
    {
     "name": "stdout",
     "output_type": "stream",
     "text": [
      "Format: ['word', 'word', 'word' ...] & watch out for white spaces before comma\n",
      "Incorrect! Try again.\n"
     ]
    }
   ],
   "source": [
    "# User input\n",
    "\n",
    "print(f\"Format: ['word', 'word', 'word' ...] & watch out for white spaces before comma\")\n",
    "user_input = str(input(\"Enter your created list of unique words: \")) \n",
    "\n",
    "f = open(\"encrypted_dictionary.txt\", \"r\")\n",
    "encrypted_words = f.read()\n",
    "\n",
    "\n",
    "# Hash the user input\n",
    "hashed_user_input = hashlib.sha256(user_input.encode()).hexdigest()\n",
    "\n",
    "# Compare with the stored hash\n",
    "if hashed_user_input == encrypted_words:\n",
    "    print(\"Correct! Your dictionary matched!\")\n",
    "else:\n",
    "    print(\"Incorrect! Try again.\")"
   ]
  },
  {
   "cell_type": "code",
   "execution_count": 117,
   "id": "0b10d096",
   "metadata": {},
   "outputs": [],
   "source": [
    "Input_Matrix = [] # Create an empty array of input matrix"
   ]
  },
  {
   "cell_type": "code",
   "execution_count": 128,
   "id": "8b7267f5",
   "metadata": {},
   "outputs": [
    {
     "name": "stdout",
     "output_type": "stream",
     "text": [
      "['big', 'blackboard', 'data', 'minhash', 'ntnu', 'piazza', 'platform', 'project', 'questions', 'students']\n",
      "[[1 1 1 0 0 0 1 0 0 1]\n",
      " [0 0 0 1 1 1 0 1 1 1]\n",
      " [1 1 1 0 1 1 1 0 0 0]\n",
      " [0 1 1 0 0 1 0 1 0 1]]\n"
     ]
    }
   ],
   "source": [
    "## Compute the values for the input matrix here ##\n",
    "\n",
    "# Sentences to process\n",
    "sentences = [\n",
    "   'big data platform students blackboard',\n",
    "   \"Questions MinHash project NTNU students Piazza\",\n",
    "   \"NTNU Big Data platform Blackboard Piazza\",\n",
    "   \"project data students Blackboard Piazza\"\n",
    "]\n",
    "\n",
    "# List of unique words\n",
    "unique_words = set()\n",
    "\n",
    "for sentence in sentences: \n",
    "    for word in sentence.split(\" \"):\n",
    "        unique_words.add(word.lower())\n",
    "\n",
    "unique_words = sorted(list(unique_words))\n",
    "print(unique_words)\n",
    "\n",
    "# Number of unique words and sentences\n",
    "num_words = len(unique_words)\n",
    "num_sentences = len(sentences)\n",
    "\n",
    "# Initialize the input matrix with zeros\n",
    "input_matrix =  np.full((num_sentences, num_words), 0)\n",
    "\n",
    "# Compute the values for the input matrix\n",
    "for j, sentence in enumerate(sentences):    \n",
    "    for i, word in enumerate(unique_words):\n",
    "        if word in sentence.lower().split(' '):\n",
    "            input_matrix[j][i] = 1\n",
    "\n",
    "print(input_matrix)"
   ]
  },
  {
   "cell_type": "code",
   "execution_count": 147,
   "id": "4a3c8256",
   "metadata": {},
   "outputs": [],
   "source": [
    "def hash_1(x):\n",
    "    return ((x + 1) + 3) % 10 + 1\n",
    "\n",
    "def hash_2(x):\n",
    "    return (7 * (x + 1) + 1) % 10 + 1\n",
    "\n",
    "def hash_3(x):\n",
    "    return (7 * (x + 1) + 2) % 10 + 1"
   ]
  },
  {
   "cell_type": "code",
   "execution_count": 148,
   "id": "e854ba69",
   "metadata": {},
   "outputs": [],
   "source": [
    "\n",
    "hash_list = [hash_1, hash_2, hash_3]"
   ]
  },
  {
   "cell_type": "code",
   "execution_count": 151,
   "id": "a6218bf7",
   "metadata": {},
   "outputs": [],
   "source": [
    "## Using the hash functions and the input matrix compute the MinHash signature matrix here ##\n",
    "def minhash(input_matrix, hash_functions):\n",
    "    # Number of rows and columns in the input matrix\n",
    "    num_cols, num_rows = input_matrix.shape\n",
    "\n",
    "    # Number of hash functions\n",
    "    num_hash_functions = len(hash_functions)\n",
    "\n",
    "    # Initialize the signature matrix with infinite values\n",
    "    signature_matrix = np.full((num_cols, num_hash_functions), np.inf)\n",
    "\n",
    "    # Apply the MinHash algorithm\n",
    "    for r in range(num_rows):\n",
    "        for c in range(num_cols):\n",
    "            if input_matrix[c][r] == 1:\n",
    "                for i, hash_function in enumerate(hash_functions):\n",
    "                    hash_value = hash_function(r)\n",
    "                    print(hash_value)\n",
    "                    if hash_value < signature_matrix[c][i]:\n",
    "                        signature_matrix[c][i] = hash_value\n",
    "\n",
    "    return signature_matrix"
   ]
  },
  {
   "cell_type": "code",
   "execution_count": 152,
   "id": "b1d7fd7e",
   "metadata": {},
   "outputs": [
    {
     "name": "stdout",
     "output_type": "stream",
     "text": [
      "5\n",
      "9\n",
      "10\n",
      "5\n",
      "9\n",
      "10\n",
      "6\n",
      "6\n",
      "7\n",
      "6\n",
      "6\n",
      "7\n",
      "6\n",
      "6\n",
      "7\n",
      "7\n",
      "3\n",
      "4\n",
      "7\n",
      "3\n",
      "4\n",
      "7\n",
      "3\n",
      "4\n",
      "8\n",
      "10\n",
      "1\n",
      "9\n",
      "7\n",
      "8\n",
      "9\n",
      "7\n",
      "8\n",
      "10\n",
      "4\n",
      "5\n",
      "10\n",
      "4\n",
      "5\n",
      "10\n",
      "4\n",
      "5\n",
      "1\n",
      "1\n",
      "2\n",
      "1\n",
      "1\n",
      "2\n",
      "2\n",
      "8\n",
      "9\n",
      "2\n",
      "8\n",
      "9\n",
      "3\n",
      "5\n",
      "6\n",
      "4\n",
      "2\n",
      "3\n",
      "4\n",
      "2\n",
      "3\n",
      "4\n",
      "2\n",
      "3\n",
      "[[1. 1. 2.]\n",
      " [2. 2. 1.]\n",
      " [1. 1. 2.]\n",
      " [2. 2. 3.]]\n"
     ]
    }
   ],
   "source": [
    "print(minhash(input_matrix, hash_list))"
   ]
  }
 ],
 "metadata": {
  "kernelspec": {
   "display_name": "Python 3 (ipykernel)",
   "language": "python",
   "name": "python3"
  },
  "language_info": {
   "codemirror_mode": {
    "name": "ipython",
    "version": 3
   },
   "file_extension": ".py",
   "mimetype": "text/x-python",
   "name": "python",
   "nbconvert_exporter": "python",
   "pygments_lexer": "ipython3",
   "version": "3.11.5"
  }
 },
 "nbformat": 4,
 "nbformat_minor": 5
}
